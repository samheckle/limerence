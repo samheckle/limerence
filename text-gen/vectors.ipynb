{
 "cells": [
  {
   "cell_type": "code",
   "execution_count": 1,
   "id": "13f9683d",
   "metadata": {
    "scrolled": true
   },
   "outputs": [
    {
     "name": "stdout",
     "output_type": "stream",
     "text": [
      "Requirement already satisfied: simpleneighbors in ./env/lib/python3.8/site-packages (0.1.0)\n",
      "Requirement already satisfied: pip in ./env/lib/python3.8/site-packages (23.0.1)\n",
      "Requirement already satisfied: install in ./env/lib/python3.8/site-packages (1.3.5)\n",
      "Requirement already satisfied: spacy in ./env/lib/python3.8/site-packages (3.5.1)\n",
      "Requirement already satisfied: cymem<2.1.0,>=2.0.2 in ./env/lib/python3.8/site-packages (from spacy) (2.0.7)\n",
      "Requirement already satisfied: numpy>=1.15.0 in ./env/lib/python3.8/site-packages (from spacy) (1.24.2)\n",
      "Requirement already satisfied: smart-open<7.0.0,>=5.2.1 in ./env/lib/python3.8/site-packages (from spacy) (6.3.0)\n",
      "Requirement already satisfied: packaging>=20.0 in ./env/lib/python3.8/site-packages (from spacy) (23.0)\n",
      "Requirement already satisfied: setuptools in ./env/lib/python3.8/site-packages (from spacy) (49.2.1)\n",
      "Requirement already satisfied: srsly<3.0.0,>=2.4.3 in ./env/lib/python3.8/site-packages (from spacy) (2.4.6)\n",
      "Requirement already satisfied: pydantic!=1.8,!=1.8.1,<1.11.0,>=1.7.4 in ./env/lib/python3.8/site-packages (from spacy) (1.10.6)\n",
      "Requirement already satisfied: jinja2 in ./env/lib/python3.8/site-packages (from spacy) (3.1.2)\n",
      "Requirement already satisfied: catalogue<2.1.0,>=2.0.6 in ./env/lib/python3.8/site-packages (from spacy) (2.0.8)\n",
      "Requirement already satisfied: pathy>=0.10.0 in ./env/lib/python3.8/site-packages (from spacy) (0.10.1)\n",
      "Requirement already satisfied: thinc<8.2.0,>=8.1.8 in ./env/lib/python3.8/site-packages (from spacy) (8.1.9)\n",
      "Requirement already satisfied: requests<3.0.0,>=2.13.0 in ./env/lib/python3.8/site-packages (from spacy) (2.28.2)\n",
      "Requirement already satisfied: preshed<3.1.0,>=3.0.2 in ./env/lib/python3.8/site-packages (from spacy) (3.0.8)\n",
      "Requirement already satisfied: langcodes<4.0.0,>=3.2.0 in ./env/lib/python3.8/site-packages (from spacy) (3.3.0)\n",
      "Requirement already satisfied: tqdm<5.0.0,>=4.38.0 in ./env/lib/python3.8/site-packages (from spacy) (4.65.0)\n",
      "Requirement already satisfied: spacy-legacy<3.1.0,>=3.0.11 in ./env/lib/python3.8/site-packages (from spacy) (3.0.12)\n",
      "Requirement already satisfied: typer<0.8.0,>=0.3.0 in ./env/lib/python3.8/site-packages (from spacy) (0.7.0)\n",
      "Requirement already satisfied: murmurhash<1.1.0,>=0.28.0 in ./env/lib/python3.8/site-packages (from spacy) (1.0.9)\n",
      "Requirement already satisfied: wasabi<1.2.0,>=0.9.1 in ./env/lib/python3.8/site-packages (from spacy) (1.1.1)\n",
      "Requirement already satisfied: spacy-loggers<2.0.0,>=1.0.0 in ./env/lib/python3.8/site-packages (from spacy) (1.0.4)\n",
      "Requirement already satisfied: typing-extensions>=4.2.0 in ./env/lib/python3.8/site-packages (from pydantic!=1.8,!=1.8.1,<1.11.0,>=1.7.4->spacy) (4.5.0)\n",
      "Requirement already satisfied: charset-normalizer<4,>=2 in ./env/lib/python3.8/site-packages (from requests<3.0.0,>=2.13.0->spacy) (3.1.0)\n",
      "Requirement already satisfied: idna<4,>=2.5 in ./env/lib/python3.8/site-packages (from requests<3.0.0,>=2.13.0->spacy) (3.4)\n",
      "Requirement already satisfied: urllib3<1.27,>=1.21.1 in ./env/lib/python3.8/site-packages (from requests<3.0.0,>=2.13.0->spacy) (1.26.15)\n",
      "Requirement already satisfied: certifi>=2017.4.17 in ./env/lib/python3.8/site-packages (from requests<3.0.0,>=2.13.0->spacy) (2022.12.7)\n",
      "Requirement already satisfied: blis<0.8.0,>=0.7.8 in ./env/lib/python3.8/site-packages (from thinc<8.2.0,>=8.1.8->spacy) (0.7.9)\n",
      "Requirement already satisfied: confection<1.0.0,>=0.0.1 in ./env/lib/python3.8/site-packages (from thinc<8.2.0,>=8.1.8->spacy) (0.0.4)\n",
      "Requirement already satisfied: click<9.0.0,>=7.1.1 in ./env/lib/python3.8/site-packages (from typer<0.8.0,>=0.3.0->spacy) (8.1.3)\n",
      "Requirement already satisfied: MarkupSafe>=2.0 in ./env/lib/python3.8/site-packages (from jinja2->spacy) (2.1.2)\n",
      "Collecting en-core-web-md==3.5.0\n",
      "  Downloading https://github.com/explosion/spacy-models/releases/download/en_core_web_md-3.5.0/en_core_web_md-3.5.0-py3-none-any.whl (42.8 MB)\n",
      "\u001b[2K     \u001b[38;2;114;156;31m━━━━━━━━━━━━━━━━━━━━━━━━━━━━━━━━━━━━━━━━\u001b[0m \u001b[32m42.8/42.8 MB\u001b[0m \u001b[31m21.8 MB/s\u001b[0m eta \u001b[36m0:00:00\u001b[0mm eta \u001b[36m0:00:01\u001b[0m[36m0:00:01\u001b[0m\n",
      "\u001b[?25hRequirement already satisfied: spacy<3.6.0,>=3.5.0 in ./env/lib/python3.8/site-packages (from en-core-web-md==3.5.0) (3.5.1)\n",
      "Requirement already satisfied: spacy-legacy<3.1.0,>=3.0.11 in ./env/lib/python3.8/site-packages (from spacy<3.6.0,>=3.5.0->en-core-web-md==3.5.0) (3.0.12)\n",
      "Requirement already satisfied: numpy>=1.15.0 in ./env/lib/python3.8/site-packages (from spacy<3.6.0,>=3.5.0->en-core-web-md==3.5.0) (1.24.2)\n",
      "Requirement already satisfied: pathy>=0.10.0 in ./env/lib/python3.8/site-packages (from spacy<3.6.0,>=3.5.0->en-core-web-md==3.5.0) (0.10.1)\n",
      "Requirement already satisfied: smart-open<7.0.0,>=5.2.1 in ./env/lib/python3.8/site-packages (from spacy<3.6.0,>=3.5.0->en-core-web-md==3.5.0) (6.3.0)\n",
      "Requirement already satisfied: preshed<3.1.0,>=3.0.2 in ./env/lib/python3.8/site-packages (from spacy<3.6.0,>=3.5.0->en-core-web-md==3.5.0) (3.0.8)\n",
      "Requirement already satisfied: tqdm<5.0.0,>=4.38.0 in ./env/lib/python3.8/site-packages (from spacy<3.6.0,>=3.5.0->en-core-web-md==3.5.0) (4.65.0)\n",
      "Requirement already satisfied: packaging>=20.0 in ./env/lib/python3.8/site-packages (from spacy<3.6.0,>=3.5.0->en-core-web-md==3.5.0) (23.0)\n",
      "Requirement already satisfied: jinja2 in ./env/lib/python3.8/site-packages (from spacy<3.6.0,>=3.5.0->en-core-web-md==3.5.0) (3.1.2)\n",
      "Requirement already satisfied: typer<0.8.0,>=0.3.0 in ./env/lib/python3.8/site-packages (from spacy<3.6.0,>=3.5.0->en-core-web-md==3.5.0) (0.7.0)\n",
      "Requirement already satisfied: requests<3.0.0,>=2.13.0 in ./env/lib/python3.8/site-packages (from spacy<3.6.0,>=3.5.0->en-core-web-md==3.5.0) (2.28.2)\n",
      "Requirement already satisfied: wasabi<1.2.0,>=0.9.1 in ./env/lib/python3.8/site-packages (from spacy<3.6.0,>=3.5.0->en-core-web-md==3.5.0) (1.1.1)\n",
      "Requirement already satisfied: spacy-loggers<2.0.0,>=1.0.0 in ./env/lib/python3.8/site-packages (from spacy<3.6.0,>=3.5.0->en-core-web-md==3.5.0) (1.0.4)\n",
      "Requirement already satisfied: langcodes<4.0.0,>=3.2.0 in ./env/lib/python3.8/site-packages (from spacy<3.6.0,>=3.5.0->en-core-web-md==3.5.0) (3.3.0)\n",
      "Requirement already satisfied: thinc<8.2.0,>=8.1.8 in ./env/lib/python3.8/site-packages (from spacy<3.6.0,>=3.5.0->en-core-web-md==3.5.0) (8.1.9)\n",
      "Requirement already satisfied: murmurhash<1.1.0,>=0.28.0 in ./env/lib/python3.8/site-packages (from spacy<3.6.0,>=3.5.0->en-core-web-md==3.5.0) (1.0.9)\n",
      "Requirement already satisfied: srsly<3.0.0,>=2.4.3 in ./env/lib/python3.8/site-packages (from spacy<3.6.0,>=3.5.0->en-core-web-md==3.5.0) (2.4.6)\n",
      "Requirement already satisfied: pydantic!=1.8,!=1.8.1,<1.11.0,>=1.7.4 in ./env/lib/python3.8/site-packages (from spacy<3.6.0,>=3.5.0->en-core-web-md==3.5.0) (1.10.6)\n",
      "Requirement already satisfied: catalogue<2.1.0,>=2.0.6 in ./env/lib/python3.8/site-packages (from spacy<3.6.0,>=3.5.0->en-core-web-md==3.5.0) (2.0.8)\n",
      "Requirement already satisfied: cymem<2.1.0,>=2.0.2 in ./env/lib/python3.8/site-packages (from spacy<3.6.0,>=3.5.0->en-core-web-md==3.5.0) (2.0.7)\n",
      "Requirement already satisfied: setuptools in ./env/lib/python3.8/site-packages (from spacy<3.6.0,>=3.5.0->en-core-web-md==3.5.0) (49.2.1)\n",
      "Requirement already satisfied: typing-extensions>=4.2.0 in ./env/lib/python3.8/site-packages (from pydantic!=1.8,!=1.8.1,<1.11.0,>=1.7.4->spacy<3.6.0,>=3.5.0->en-core-web-md==3.5.0) (4.5.0)\n",
      "Requirement already satisfied: charset-normalizer<4,>=2 in ./env/lib/python3.8/site-packages (from requests<3.0.0,>=2.13.0->spacy<3.6.0,>=3.5.0->en-core-web-md==3.5.0) (3.1.0)\n",
      "Requirement already satisfied: certifi>=2017.4.17 in ./env/lib/python3.8/site-packages (from requests<3.0.0,>=2.13.0->spacy<3.6.0,>=3.5.0->en-core-web-md==3.5.0) (2022.12.7)\n",
      "Requirement already satisfied: urllib3<1.27,>=1.21.1 in ./env/lib/python3.8/site-packages (from requests<3.0.0,>=2.13.0->spacy<3.6.0,>=3.5.0->en-core-web-md==3.5.0) (1.26.15)\n",
      "Requirement already satisfied: idna<4,>=2.5 in ./env/lib/python3.8/site-packages (from requests<3.0.0,>=2.13.0->spacy<3.6.0,>=3.5.0->en-core-web-md==3.5.0) (3.4)\n",
      "Requirement already satisfied: confection<1.0.0,>=0.0.1 in ./env/lib/python3.8/site-packages (from thinc<8.2.0,>=8.1.8->spacy<3.6.0,>=3.5.0->en-core-web-md==3.5.0) (0.0.4)\n",
      "Requirement already satisfied: blis<0.8.0,>=0.7.8 in ./env/lib/python3.8/site-packages (from thinc<8.2.0,>=8.1.8->spacy<3.6.0,>=3.5.0->en-core-web-md==3.5.0) (0.7.9)\n"
     ]
    },
    {
     "name": "stdout",
     "output_type": "stream",
     "text": [
      "Requirement already satisfied: click<9.0.0,>=7.1.1 in ./env/lib/python3.8/site-packages (from typer<0.8.0,>=0.3.0->spacy<3.6.0,>=3.5.0->en-core-web-md==3.5.0) (8.1.3)\n",
      "Requirement already satisfied: MarkupSafe>=2.0 in ./env/lib/python3.8/site-packages (from jinja2->spacy<3.6.0,>=3.5.0->en-core-web-md==3.5.0) (2.1.2)\n",
      "\u001b[38;5;2m✔ Download and installation successful\u001b[0m\n",
      "You can now load the package via spacy.load('en_core_web_md')\n"
     ]
    }
   ],
   "source": [
    "import sys\n",
    "!{sys.executable} -m pip install simpleneighbors\n",
    "!{sys.executable} -m pip install pip install -U spacy\n",
    "!{sys.executable} -m spacy download en_core_web_md"
   ]
  },
  {
   "cell_type": "code",
   "execution_count": 2,
   "id": "a9907acf",
   "metadata": {},
   "outputs": [
    {
     "name": "stdout",
     "output_type": "stream",
     "text": [
      "Requirement already satisfied: annoy==1.16.3 in ./env/lib/python3.8/site-packages (1.16.3)\r\n"
     ]
    }
   ],
   "source": [
    "!{sys.executable} -m pip install annoy==1.16.3"
   ]
  },
  {
   "cell_type": "code",
   "execution_count": 3,
   "id": "78866488",
   "metadata": {},
   "outputs": [],
   "source": [
    "import spacy\n",
    "\n",
    "nlp = spacy.load('en_core_web_md')\n",
    "\n",
    "doc = nlp(open(\"2try.txt\").read())"
   ]
  },
  {
   "cell_type": "code",
   "execution_count": 4,
   "id": "4bf33457",
   "metadata": {},
   "outputs": [
    {
     "data": {
      "text/plain": [
       "[\"The lover's discourse is usually a smooth envelope which encases the Image, a very gentle glove around the loved being.\",\n",
       " 'This notion is a ruse, because it takes up a position within the very heart of passion, whose obsessions and anxieties it leaves intact.  ',\n",
       " 'No doubt I try to deny separation by the telephone-as the child fearing to lose its mother keeps pulling on a string; but the telephone wire is not a good transitional object, it is not an inert string; it is charged with a meaning, which is not that of junction but that of distance: the loved, exhausted voice heard over the telephone is the fade-out in all its anxiety.',\n",
       " 'Here is a gesture by which is revealed a being of another race.',\n",
       " 'The way a nail is cut, a tooth broken slightly aslant, a lock of hair, a way of spreading the fingers while talking, while smoking?',\n",
       " 'For the bad Image is not a wicked image; it is a paltry image: it shows me the other caught up in the platitude of the social world-common\\xad place.',\n",
       " '3.  Amorous errantry has its comical side: it re\\xad sembles a ballet, more or less nimble according to the velocity of the fickle subject; but it is also a grand opera.',\n",
       " 'This speck is a tiny one: a gesture, a word, an object, a garment, something unex\\xad pected which appears (which dawns) from a region I had never even suspected, and suddenly attaches the loved ob\\xad ject to a commonplace world.',\n",
       " 'The space of reverberation is the body-that imaginary body, so \"coherent\" (coalescent) that I can experience it only in the form of a generalized pang.',\n",
       " \"''Lookin9 embarrassed'' gene I embarrassment A group scene in which the implicit nature of the amorous relation functions as a constraint and provokes a collective embarrassment which is not spoken.         \",\n",
       " \"Of the external world, the only thing I can associ\\xad ate with my condition is the quality of the weather, as if the day's character were a dimension of the Image\\xad repertoire ( the Image is neither profound nor colored, but it is charged with all the nuances of light and warmth, communicating with the amorous body, which thus feels itself to be well or ill as a whole, as a communion).\",\n",
       " 'In the animal world, the release switch of the sex\\xad ual mechanism is not a specific individual but only a form,                          Flaubert          etymology  a bright-colored fetish ( which is how the Image-repertoire starts up).']"
      ]
     },
     "execution_count": 4,
     "metadata": {},
     "output_type": "execute_result"
    }
   ],
   "source": [
    "from simpleneighbors import SimpleNeighbors\n",
    "\n",
    "sentence_lookup = SimpleNeighbors(300)\n",
    "for sent in doc.sents:\n",
    "    # replace linebreaks to make the output a bit more neat\n",
    "    sentence_lookup.add_one(sent.text.replace(\"\\n\", \" \"), sent.vector)\n",
    "sentence_lookup.build()\n",
    "\n",
    "sentence_lookup.nearest(nlp(\"The distance between two bodies is itself a body too\").vector)"
   ]
  },
  {
   "cell_type": "code",
   "execution_count": 5,
   "id": "c7bb3f81",
   "metadata": {},
   "outputs": [
    {
     "data": {
      "text/plain": [
       "[\"''I have an Other-ache'' compassion I compassion Thesubject experiences a sentiment of violent compassion with regard to the loved object each time he sees, feels, or knows the loved object is unhappy or in danger, for whatever reason external to the amorous relation itself.      \",\n",
       " 'To Be Ascetic askesis Whether he feels guilty with regard to the loved being, or whether he seeks to impress that beiag by representing his unhappiness, the amorous subject outlines an ascetic behavior of self-punishment (in life style, dress, etc.).    ',\n",
       " 'What wounds me are the forms of the relation, its images; or rather, what others call form I experience as force.',\n",
       " 'When knowledge, when science speaks, I sometimes come to the point of hearing its discourse as the sound of a gossip which describes and disparages lightly, coldly, and objectively what I love: which speaks of what I love according to truth.  ',\n",
       " \"Let us imagine that the science of our lapsi were to discover, one day, its own lapsus, and that this !apsus should turn out to be: a new, unheard-of form of consciousness?)  ''\",\n",
       " 'The loved being, if only unconsciously and for motives which may proceed from his own neurotic advantage, then seems to be determined to lodge me even deeper in my delirium, to sustain and to aggravate the amorous wound: like those FRl;:UD: ··we must not underestimate the curative power of love in delirium\\'\\' (Delirium and Dream i11 Jensen\\'s \"Gradiva\").  ',\n",
       " 'Symposi11111         Werther  I.  Two powerful myths have persuaded us that love could, should be sublimated in aesthetic creation: the Socratic myth (loving serves to \"engender a host of beau\\xad tiful discourses\") and the romantic myth (I shall produce an immortal work by writing my passion). ',\n",
       " 'The second series would say that to speak is always to say something about someone; in speaking about the banquet, about Love, it is about Socrates, about Alcibiades, and about their friends that Glaucon and Apollodorus are talking: the \"subject\" comes to light by gossip.',\n",
       " \"Talking declaration /  declaration The amorous subject's propensity to talk copiously, with repressed feeling, to the loved being, about his love for that being, for himself, for them: the declaration does not bear upon the avowal of love, but upon the endlessly glossed form of the amorous relation.    \",\n",
       " 'A moment of affirmation; for a certain time, though a finite one, a deranged interval, something has been successful: I have been fulfilled (all my desires abolished by the plenitude of their satisfaction): fulfill\\xad ment does exist, and I shall keep on making it return: through all the meanderings of my amorous history, I shall persist in wanting to rediscover, to renew the contradic\\xad tion-the contraction-of thetwo embraces.  ',\n",
       " 'For instance: the other sets about making me contradict my\\xad self (which has the effect of paralyzing any language in me); or again, the other alternates actions of seduction with actions of frustration ( this is a commonplace of the amorous relation); the other shifts without warning from one regime to another, from intimate tenderness and com\\xad plicity to coldness, to silence, to dismissiveness; or finally, in an even more tenuous fashion, though no less wound\\xad ing, the other sets about \"breaking\" the conversation, either by forcing it to shift suddenly from a serious subject ( which matters to me) to a trivial one, or by being obviously interested, while I am speaking, in something else than what I am saying.',\n",
       " 'The Dedication dedicace I dedication An episode of language which accompanies any amorous gift, whether real or projected; and, more generally, every gesture, whether actual or interior, by which the subject dedicates something to the loved being.   ']"
      ]
     },
     "execution_count": 5,
     "metadata": {},
     "output_type": "execute_result"
    }
   ],
   "source": [
    "sentence_lookup.nearest(nlp(\"yearning\").vector)"
   ]
  },
  {
   "cell_type": "code",
   "execution_count": 6,
   "id": "bda3769e",
   "metadata": {},
   "outputs": [
    {
     "data": {
      "text/plain": [
       "['Once a discourse is thus driven by its own momentum into the backwater of the \"unreal,\" exiled from all gregarity, it has no recourse but to become the site, however exiguous, of an affirmation.',\n",
       " 'These fragments of discourse can be called figures.',\n",
       " 'The word is to be understood, not in its rhetorical sense, but rather in its gymnastic or choreographic acceptation; in   short, in the Greek meaning: ux,jp.a is not the \"schema,\" but, in a much livelier way, the body\\'s gesture caught in action and not contemplated in repose: the body of athletes, orators, statues: what in the straining body can be immobilized.',\n",
       " 'It is said that words alone have specific uses, not sen\\xad tences; but underneath each figure lies a sentence, fre\\xad quently an unknown (unconscious?) one, which has its  use in the signifying economy of the amorous subject.',\n",
       " 'Such sentences are matrices of figures precisely because they remain suspended: they utter the affect, then break off, their role is filled.',\n",
       " 'Whence the emotion of every figure: even the mildest bears within it the terror of a suspense: in it, I hear the tempestuous, Neptunian quos ego  2 Order   Throughout any love life, figures occur to the lover without any order, for on each occasion they depend on an ( internal or external) accident.',\n",
       " 'Each figure explodes, vibrates in and of itself like a sound severed from any tune-or is repeated to satiety, like the motif of a hovering music.',\n",
       " 'In linguistic terms, one might say that the figures are distributional but not integrative; they always remain on the same level: the lover speaks in bundles of sentences but does not integrate these sentences on a higher level, into a work; his is a horizontal discourse: no transcen\\xad dence, no deliverance, no novel ( though a great deal of the fictive).',\n",
       " 'Hence we have avoided the wiles of pure chance, which might indeed have produced logical sequences; for we must not, one mathematician tells us, \"underestimate the power of chance to engender mon\\xad sters\"; the monster, in this case, would have been, emerg\\xad ing from a certain order of the figures, a \"philosophy of love\" where we must look for no more than its affirma\\xad tion.  ',\n",
       " \"Some come from an ordinary reading, that of Goethe's Werther.\",\n",
       " 'Therefore, these reminders of reading, of listening, have been left in the frequently uncertain, incompleted state suitable to a dis\\xad course whose occasion is indeed the memory of the sites (books, encounters) where such and such a thing has been read, spoken, heard.',\n",
       " \"The crisis of engulfment can come from a wound,  WERTHER: ''In such thoughts I am engulfed, I succumb, under the power of these magnificent visions ... Ishall sec her ...\"]"
      ]
     },
     "execution_count": 6,
     "metadata": {},
     "output_type": "execute_result"
    }
   ],
   "source": [
    "sentence_lookup.nearest(nlp(\"limerance\").vector)"
   ]
  },
  {
   "cell_type": "code",
   "execution_count": 7,
   "id": "d1775924",
   "metadata": {},
   "outputs": [
    {
     "data": {
      "text/plain": [
       "['Such a man is obviously not to be found, for bad humor is nothing more or less than a message.',\n",
       " 'So do l is not a perfect answer, for what is perfect can only be formal, and the form here is deficient, in that it does not literally take up the proffering-and it is proper to the proffering to be literal.',\n",
       " 'Such is amorous fatigue: a hunger not to be satisfied, a gaping love.',\n",
       " 'Does this mean, then, that my desire, quite special as it may be, is linked to a type?',\n",
       " 'Thus fulfillment is a precipitation: something is condensed, streams over me, strikes me like a lightning bolt.',\n",
       " 'I live under the regime of too much or not enough; greedy for coincidence as I am, everything which is not total seems parsimonious; what I want is to occupy a site from which quantities are no NIETZSCHE: ..',\n",
       " 'The gift is contact, sensuality: you will be touching what I have touched, a third skin unites us.',\n",
       " \"The lover's sentiment is old-fash\\xad ioned, but this antiquation cannot even be recuperated as  a spectacle: love falls outside of interesting time; no his\\xad torical, polemical meaning can be given to it; it is in this that it is obscene.           \",\n",
       " 'Identification is not a psychological process; it is a pure structural operation: I am the one who has the same place I have.   ',\n",
       " 'And if the other does not come, I hallucinate the other: waiting is a delirium. ',\n",
       " 'For me as an amorous subject, it is quite the contrary: it is becoming a subject, being unable to keep myself from doing so, which drives me mad.',\n",
       " 'But such recourse is futile: amorous time does not permit the subject to align impulse and action, to make them coincide: I am not the man of mere \"acting out\"-my madness is tempered, it is not seen; it is right away that I fear consequences, any consequence: it is my fear-my deliberation-which is \"spontaneous.\"      Zen 3.  ']"
      ]
     },
     "execution_count": 7,
     "metadata": {},
     "output_type": "execute_result"
    }
   ],
   "source": [
    "sentence_lookup.nearest(nlp(\"You are everywhere, your image is without a reply.\").vector)"
   ]
  },
  {
   "cell_type": "code",
   "execution_count": 10,
   "id": "91b4d573",
   "metadata": {},
   "outputs": [
    {
     "data": {
      "text/plain": [
       "['Such is amorous fatigue: a hunger not to be satisfied, a gaping love.',\n",
       " 'Such a man is obviously not to be found, for bad humor is nothing more or less than a message.',\n",
       " \"The lover's sentiment is old-fash\\xad ioned, but this antiquation cannot even be recuperated as  a spectacle: love falls outside of interesting time; no his\\xad torical, polemical meaning can be given to it; it is in this that it is obscene.           \",\n",
       " 'Does this mean, then, that my desire, quite special as it may be, is linked to a type?',\n",
       " 'If exile from the Image\\xad repertoire is the necessary road to \"cure,\" it must be ad\\xad mitted that such progress is a sad one.',\n",
       " 'So do l is not a perfect answer, for what is perfect can only be formal, and the form here is deficient, in that it does not literally take up the proffering-and it is proper to the proffering to be literal.',\n",
       " 'Everything is in the speaking of it: it is a \"formula,\" but this formula corresponds to no ritual; the situations in which I say I-love-you cannot be classified: !',\n",
       " 'Identification is not a psychological process; it is a pure structural operation: I am the one who has the same place I have.   ',\n",
       " '(If I acknowledge my dependency, I do so because for me it is a means of signifying my demand: in the realm of love, futility is not a \"weakness\" or an \"absurdity\": it is a strong sign: the more futile, the more it signifies and the more it asserts itself as strength.) ',\n",
       " 'But such recourse is futile: amorous time does not permit the subject to align impulse and action, to make them coincide: I am not the man of mere \"acting out\"-my madness is tempered, it is not seen; it is right away that I fear consequences, any consequence: it is my fear-my deliberation-which is \"spontaneous.\"      Zen 3.  ',\n",
       " 'In order to discover my exquisite points, there exists an instrument which resembles a nail: this instrument is a joke: I do not suffer jokes lightly.',\n",
       " 'For me as an amorous subject, it is quite the contrary: it is becoming a subject, being unable to keep myself from doing so, which drives me mad.']"
      ]
     },
     "execution_count": 10,
     "metadata": {},
     "output_type": "execute_result"
    }
   ],
   "source": [
    "sentence_lookup.nearest(nlp(\"Such is amorous fatigue: a hunger not to be satisfied, a gaping love.\").vector)"
   ]
  },
  {
   "cell_type": "code",
   "execution_count": 11,
   "id": "d3b0e699",
   "metadata": {},
   "outputs": [
    {
     "data": {
      "text/plain": [
       "['I am not dialectical.',\n",
       " 'I am not nihilistic.',\n",
       " 'I must create my experience of drying mushrooms.\")  I am indefectibly myself, and it is in this that I am mad: I am mad because I consist.           ',\n",
       " 'I am caught up in a double discourse, from which I cannot escape.',\n",
       " 'But the silent Mother does not tell me what I am: I am no longer estab\\xad lished, I drift painfully, without existence. ',\n",
       " \"Right now L'm exploring our limits; ninny that I am, I make the advances.\",\n",
       " 'Yet, for the first time, I am really afraid.',\n",
       " 'I take a role: I am the one who is going to cry; and I play this role for myself, and it makes me cry: I am my own theater.',\n",
       " 'From what, seeing them, am I excluded?',\n",
       " 'I am not destroyed, but dropped here, a re\\xad ject.        ',\n",
       " 'In the first moment I am neurotic, I unrealize; in the second, I am psychotic, crazy, I disrealize.        ',\n",
       " 'I perform, discreetly, lunatic chores; I am the sole witness of my lunacy.']"
      ]
     },
     "execution_count": 11,
     "metadata": {},
     "output_type": "execute_result"
    }
   ],
   "source": [
    "sentence_lookup.nearest(nlp(\"I am caught up; I am alarmed by the slightest injuries.\").vector)"
   ]
  },
  {
   "cell_type": "code",
   "execution_count": 12,
   "id": "03c0b50f",
   "metadata": {},
   "outputs": [
    {
     "data": {
      "text/plain": [
       "['Whence the emotion of every figure: even the mildest bears within it the terror of a suspense: in it, I hear the tempestuous, Neptunian quos ego  2 Order   Throughout any love life, figures occur to the lover without any order, for on each occasion they depend on an ( internal or external) accident.',\n",
       " \"l.\\tThe other's body was divided: on one side, the body proper-skin, eyes-tender, warm; and on the other side, the voice-abrupt, reserved, subject to fits of remoteness, a voice which did not give what the body gave.\",\n",
       " 'A contrario: any ethic of purity requires that we detach the gift from the hand which gives or re\\xad ceives it: in Buddhist ordination, personal objects and the three garments are offered to the bonze on a pole; the bonze accepts them by touching them with a stick, not   Zen  with his hand; thus, in the future, everything which will be given to him-and on which he will live-will be arranged on a table, on the ground, or on a fan.  ',\n",
       " '1 Figures   Dis-cursus-originally the action of running here and there, comings and goings, measures taken, \"plots and plans\": the Jover, in fact, cannot keep his mind from racing, taking new measures and plotting against himself.',\n",
       " 'Bustling gossip, all jealousy suspended, around this absent party whose objective nature is reinforced by two converging visions: we give ourselves over to a rigorous, successful experiment, since there are two observers and since the two observations are made under the same con\\xad ditions: the object is proved: 1 discover that/ amright (to be happy, to be injured, to be anxious).    ',\n",
       " 'I conjugate the two linguistic series, amplify them by each other: 1 establish myself, however painfully, in the very substance of the message (i.e., the content of the rumor), while I bitterly and mistrustfully scrutinize the force which warrants it: 1 lose on both counts, wounded on all sides.',\n",
       " 'So that this disequilibrium can catch (like a motor), so that the scene can get into its proper gear, there must be a bait or decoy which each of the two partners tries to draw into his own camp; this bait is usu\\xad ally a fact (which one affirms and the other denies) or a decision (which one imposes and the other rejects: in Werther, to visit less frequently).',\n",
       " 'This work derives, then, from two different linguistic series, generally repressed-since official linguistics con\\xad cerns itself only with the message.',\n",
       " 'The words are never crazed (at most perverse), but the syntax is: is it not on the level of the sentence that the subject seeks his place-and fails to find it-or finds a false place imposed upon him by language?',\n",
       " 'As a counter-sign, I-love-you is on the side of Dionysus: suffering is not denied (nor even complaint, disgust, resentment), but by its proffering, it is not inter\\xad nalized: to say /-love-you ( to repeat it) is to expel the reaction-formation, to return it to the deaf and doleful world of signs-of thedetours of speech (which, however, I never cease to pass through).',\n",
       " 'The scene is like the Sentence: structurally, there is no obligation for it to stop; no internal constraint ex\\xad hausts it, because, as in the Sentence, once the core is given (the fact, the decision), the expansions are infinitely renewable.',\n",
       " '3.  Amorous errantry has its comical side: it re\\xad sembles a ballet, more or less nimble according to the velocity of the fickle subject; but it is also a grand opera.']"
      ]
     },
     "execution_count": 12,
     "metadata": {},
     "output_type": "execute_result"
    }
   ],
   "source": [
    "sentence_lookup.nearest(nlp(\"suspension\").vector)"
   ]
  },
  {
   "cell_type": "code",
   "execution_count": 13,
   "id": "037f2774",
   "metadata": {},
   "outputs": [
    {
     "data": {
      "text/plain": [
       "['For the lover\\'s delicacy, every fact has something aggressive about it: a bit of \"science,\" however common\\xad place, invades the Image-repertoire. ',\n",
       " 'Whereupon I know what the present, that difficult tense, is: a pure portion of anxiety. ',\n",
       " 'Are not these two projects supposed to be different, the one noble, the other morbid?                        F.W.     Winnicott  Loving and being in love have difficult relationships with each other: for if it is true that being in love is unlike anything else ( a drop of being-in-love diluted in some vague friendly relation dyes it brightly, makes it incom\\xad parable:',\n",
       " 'For love at first sight requires the very sign of its suddenness ( what makes me irresponsible, sub\\xad ject to fatality, swept away, ravished): and of all the ar\\xad rangements of objects, it is the scene which seems to be seen best for the first time: a curtain parts: what had not yet ever been seen is discovered in its entirety, and then devoured by the eyes: what is immediate stands for what is fulfilled: I am initiated: the scene consecrates the object I am going to love. ',\n",
       " 'I.  What echoes in me is what I learn with my body: something sharp and tenuous suddenly wakens this body, which, meanwhile, had languished in the rational knowl\\xad edge of a general situation: the word, the image, the thought function like a whiplash.',\n",
       " \"However, insofar as it is assimilated into the subject's hallucination, this reply is enough to set going a whole discourse of jubilation: jubi\\xad lation all the more powerful in that it wells up by means of a sudden transformation: Saint-Preux discovers abruptly, after several haughty denials, that Julie loves him.\",\n",
       " 'Through these iridescent, versatile judgments, a painful impression subsists: I see that the other perseveres in himself; he is himself this perseverance, against which 1 stumble.',\n",
       " 'Quite frequently, it is by language that the other is altered; the other speaks a different word, and I hear rumbling menacingly a whole other world, which is the world of the other.',\n",
       " 'It is not true that the more you love, the better you understand; all that the action of love obtains from me is merely this wisdom: that the other is not to be known; his opacity is not the screen around a secret, but, instead, a kind of evidence in which the game of reality and appear\\xad ance is done away with.',\n",
       " 'Hence, discourse on love though I may for years at a time, I cannot hope to seize the concept of it except \"by the tail\": by flashes, formulas, surprises of expression, scattered through the great stream of the Image-repertoire; I am in love\\'s wrong place, which is its dazzling place: \"The darkest place, according to a Chinese proverb, is always underneath the lamp.\"   2.',\n",
       " 'This is reverberation: the zealous practice of a perfect reception: contrary to the analyst (and with reason), far from \"floating\" while the other speaks, I listen completely, in a state of total conscious\\xad ness: I cannot keep from hearing everything, and it is the purity of this reception which is painful to me: who can tolerate without pain a meaning that is complex and yet purified of any \"noise\" or interference?',\n",
       " 'From this point, he judges his contemporaries as so many innocents: they are innocent, those who censure amorous sentimentality in the name of a new morality: \"The distinctive mark of modern souls is not lying but innocence, incarnate in lying moralism.']"
      ]
     },
     "execution_count": 13,
     "metadata": {},
     "output_type": "execute_result"
    }
   ],
   "source": [
    "sentence_lookup.nearest(nlp(\"haunting\").vector)"
   ]
  },
  {
   "cell_type": "code",
   "execution_count": 14,
   "id": "0b5d4e23",
   "metadata": {},
   "outputs": [
    {
     "data": {
      "text/plain": [
       "['To ma\\xad nipulate absence is to extend this interval, to delay as long as possible the moment when the other might topple sharply from absence into death.   ',\n",
       " '2.  Encounter with an intellectual in love: for him, \"to assume\" (not to repress) extreme stupidity, the naked stupidity of his discourse, is the same thing as for Bataille\\'s subject to take off his clothes in a public place: the necessary form of the impossible and of the sovereign: an abjection such that no discourse of transgression can recuperate it and such that it exposes itself without protec\\xad tion to the moralism of anti-morality.',\n",
       " 'For instance: the other sets about making me contradict my\\xad self (which has the effect of paralyzing any language in me); or again, the other alternates actions of seduction with actions of frustration ( this is a commonplace of the amorous relation); the other shifts without warning from one regime to another, from intimate tenderness and com\\xad plicity to coldness, to silence, to dismissiveness; or finally, in an even more tenuous fashion, though no less wound\\xad ing, the other sets about \"breaking\" the conversation, either by forcing it to shift suddenly from a serious subject ( which matters to me) to a trivial one, or by being obviously interested, while I am speaking, in something else than what I am saying.',\n",
       " 'Yet, whatever the regularity of this mechanism, the initial differential must be discover\\xad able in each distich: thus Charlotte always turns her argument toward general propositions (\"It\\'s because it is impossible that you desire me at all\"), and Werther al\\xad ways brings his argument back to contingence, god of amorous injury (\"Your decision must have been made by Albert\").',\n",
       " 'Today, however, there is no system of love: and the several systems which surround the contemporary lover offer him no room (except for an extremely devaluated place): turn as he will toward one or another of the received languages, none answers him, except in order to turn him away from what he loves.',\n",
       " 'Aslong as this strange mourning lasts, I will therefore have to undergo two con\\xad trary miseries: to suffer from the fact that the other is present (continuing, in spite of himself, to wound me) and to suffer from the fact that the other is dead (dead at least as I loved him).',\n",
       " 'anxiety in the pure state: the anxiety of abandonment; I have just shifted in a second from absence to death; the other is as if dead: explosion of grief: I am internally livid.',\n",
       " 'The true act of mourning is not to suffer from the loss of the loved object; it is to discern one day, on the skin of the relationship, a certain tiny stain, appearing there as the symptom of a certain death: for the first time I am doing harm to the one I love, involuntarily, of course, but with\\xad out panic.  ',\n",
       " 'In order that the subject of the scene be furnished with a truly peremptory last word, it requires no less than sui\\xad cide: by the announcement of suicide, Werther immedi\\xad ately becomes the stronger of the two: whereby we see once again that only death can interrupt the Sentence, the Scene.      ',\n",
       " \"Events, Setbacks, Annoyances contingences I contingencies Trivialities, incidents, setbacks, pettinesses, irritations, the vexations of amorous existence; any factual nucleus whose consequences intersect the amorous subject's will to happiness, as if chance conspired against him.    \",\n",
       " \"The imperfect is the tense of fascination: it seems to be alive and yet it doesn't move: imperfect presence, imper\\xad fect death; neither oblivion nor resurrection; simply the exhausting lure of memory.\",\n",
       " 'This clump is shattered by the slightest syntactical alteration; it is, so to speak, beyond syntax and yields itself to no structural transformation; it has no equivalent among its substitutes, whose combination might nonetheless produce the same meaning; I can say I- R.H.: Conversation.       ']"
      ]
     },
     "execution_count": 14,
     "metadata": {},
     "output_type": "execute_result"
    }
   ],
   "source": [
    "sentence_lookup.nearest(nlp(\"absence\").vector)"
   ]
  },
  {
   "cell_type": "code",
   "execution_count": 15,
   "id": "454da7a1",
   "metadata": {},
   "outputs": [
    {
     "data": {
      "text/plain": [
       "['Whoever is not me is ignorant of the other: \"Sometimes I cannot understand how another can, how he dare love her, since I alone love her completely and devotedly, knowing only her, and having nothing in the world but her!\"',\n",
       " 'Everything about the other which doesn\\'t concern me seems alien, hostile; I then feel toward him a mixture of alarm and severity: I fear and l reprove the loved being, once he no longer \"sticks\" to his image.',\n",
       " 'This kind of identity of the problem and its solution precisely defines the trap: l am trapped because it lies outside my reach to change systems: I am \"done for\" twice over: inside my own system and because I cannot substitute another system for it.',\n",
       " 'Conversely, the other establishes me in truth: it is only with the other that l feel I am \"myself.\"',\n",
       " 'But such recourse is futile: amorous time does not permit the subject to align impulse and action, to make them coincide: I am not the man of mere \"acting out\"-my madness is tempered, it is not seen; it is right away that I fear consequences, any consequence: it is my fear-my deliberation-which is \"spontaneous.\"      Zen 3.  ',\n",
       " 'How deeply would they feel the loss?',\n",
       " 'For at the same time that I \"sincerely\" identify myself with the other\\'s misery, what I read in this misery is that it occurs without me, and that by being miserable by himself, the other abandons me: if he suffers without my being the cause of his suffering, it is because I don\\'t count for him: his suffering annuls me insofar as it constitutes him outside of myself. ',\n",
       " 'Werther                   J.-L.B.  I. Werther overhears Lotte and one of her friends gossiping; they are talking quite indifferently about a dying man: \"And yet ...  if you were to die, if you vanished out of their lives? ...  ',\n",
       " 'Werther writes to Charlotte, describing to her the image of his eventual grave: \"And now I am crying like a child, telling you all this so vividly.\" IV.',\n",
       " 'So it is a lover who speaks and who says:  ·\\'I am engulfed, I succumb ...\\t\" s\\'abtmer I to be engulfed Outburst of annihilation which affects the amorous subject in despair or fulfillment.        ',\n",
       " 'I see daylight again, either because I manage to grant unhappy love a dialectical outcome (re\\xad taining the love but getting rid of the hypnosis) or because I abandon that love altogether and set out again, trying to reiterate, with others, the encounter whose dazzlement re\\xad mains with me: for it is of the order of the \"first pleasure\" and I cannot rest until it recurs: I affirm the affirmation, I begin again, without repeating.  ',\n",
       " 'By my voice, whatever it says, the other will recognize \"that something is wrong with me.\"']"
      ]
     },
     "execution_count": 15,
     "metadata": {},
     "output_type": "execute_result"
    }
   ],
   "source": [
    "sentence_lookup.nearest(nlp(\"loneliness\").vector)"
   ]
  }
 ],
 "metadata": {
  "kernelspec": {
   "display_name": "Python 3 (ipykernel)",
   "language": "python",
   "name": "python3"
  },
  "language_info": {
   "codemirror_mode": {
    "name": "ipython",
    "version": 3
   },
   "file_extension": ".py",
   "mimetype": "text/x-python",
   "name": "python",
   "nbconvert_exporter": "python",
   "pygments_lexer": "ipython3",
   "version": "3.8.7"
  }
 },
 "nbformat": 4,
 "nbformat_minor": 5
}
