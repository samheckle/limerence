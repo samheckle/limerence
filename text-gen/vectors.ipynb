{
 "cells": [
  {
   "cell_type": "code",
   "execution_count": 2,
   "id": "13f9683d",
   "metadata": {
    "scrolled": true
   },
   "outputs": [
    {
     "name": "stdout",
     "output_type": "stream",
     "text": [
      "Collecting simpleneighbors\n",
      "  Using cached simpleneighbors-0.1.0-py2.py3-none-any.whl (12 kB)\n",
      "Installing collected packages: simpleneighbors\n",
      "Successfully installed simpleneighbors-0.1.0\n",
      "\u001b[33mWARNING: You are using pip version 20.2.3; however, version 23.0.1 is available.\n",
      "You should consider upgrading via the '/Users/samheckle/dev/residency/spring-2023/limerence/text-gen/env/bin/python3 -m pip install --upgrade pip' command.\u001b[0m\n",
      "Collecting pip\n",
      "  Downloading pip-23.0.1-py3-none-any.whl (2.1 MB)\n",
      "\u001b[K     |████████████████████████████████| 2.1 MB 3.6 MB/s eta 0:00:01\n",
      "\u001b[?25hCollecting install\n",
      "  Downloading install-1.3.5-py3-none-any.whl (3.2 kB)\n",
      "Collecting spacy\n",
      "  Downloading spacy-3.5.1-cp38-cp38-macosx_10_9_x86_64.whl (6.8 MB)\n",
      "\u001b[K     |████████████████████████████████| 6.8 MB 14.1 MB/s eta 0:00:01\n",
      "\u001b[?25hCollecting spacy-legacy<3.1.0,>=3.0.11\n",
      "  Downloading spacy_legacy-3.0.12-py2.py3-none-any.whl (29 kB)\n",
      "Collecting spacy-loggers<2.0.0,>=1.0.0\n",
      "  Downloading spacy_loggers-1.0.4-py3-none-any.whl (11 kB)\n",
      "Collecting srsly<3.0.0,>=2.4.3\n",
      "  Downloading srsly-2.4.6-cp38-cp38-macosx_10_9_x86_64.whl (490 kB)\n",
      "\u001b[K     |████████████████████████████████| 490 kB 30.2 MB/s eta 0:00:01\n",
      "\u001b[?25hCollecting requests<3.0.0,>=2.13.0\n",
      "  Downloading requests-2.28.2-py3-none-any.whl (62 kB)\n",
      "\u001b[K     |████████████████████████████████| 62 kB 3.6 MB/s  eta 0:00:01\n",
      "\u001b[?25hCollecting smart-open<7.0.0,>=5.2.1\n",
      "  Downloading smart_open-6.3.0-py3-none-any.whl (56 kB)\n",
      "\u001b[K     |████████████████████████████████| 56 kB 10.9 MB/s eta 0:00:01\n",
      "\u001b[?25hCollecting tqdm<5.0.0,>=4.38.0\n",
      "  Downloading tqdm-4.65.0-py3-none-any.whl (77 kB)\n",
      "\u001b[K     |████████████████████████████████| 77 kB 10.2 MB/s eta 0:00:01\n",
      "\u001b[?25hRequirement already satisfied, skipping upgrade: jinja2 in ./env/lib/python3.8/site-packages (from spacy) (3.1.2)\n",
      "Collecting cymem<2.1.0,>=2.0.2\n",
      "  Downloading cymem-2.0.7-cp38-cp38-macosx_10_9_x86_64.whl (32 kB)\n",
      "Collecting numpy>=1.15.0\n",
      "  Downloading numpy-1.24.2-cp38-cp38-macosx_10_9_x86_64.whl (19.8 MB)\n",
      "\u001b[K     |████████████████████████████████| 19.8 MB 48.8 MB/s eta 0:00:01\n",
      "\u001b[?25hCollecting pathy>=0.10.0\n",
      "  Downloading pathy-0.10.1-py3-none-any.whl (48 kB)\n",
      "\u001b[K     |████████████████████████████████| 48 kB 9.7 MB/s  eta 0:00:01\n",
      "\u001b[?25hCollecting wasabi<1.2.0,>=0.9.1\n",
      "  Downloading wasabi-1.1.1-py3-none-any.whl (27 kB)\n",
      "Collecting pydantic!=1.8,!=1.8.1,<1.11.0,>=1.7.4\n",
      "  Downloading pydantic-1.10.6-cp38-cp38-macosx_10_9_x86_64.whl (2.9 MB)\n",
      "\u001b[K     |████████████████████████████████| 2.9 MB 40.1 MB/s eta 0:00:01\n",
      "\u001b[?25hCollecting thinc<8.2.0,>=8.1.8\n",
      "  Downloading thinc-8.1.9-cp38-cp38-macosx_10_9_x86_64.whl (848 kB)\n",
      "\u001b[K     |████████████████████████████████| 848 kB 16.6 MB/s eta 0:00:01\n",
      "\u001b[?25hCollecting murmurhash<1.1.0,>=0.28.0\n",
      "  Downloading murmurhash-1.0.9-cp38-cp38-macosx_10_9_x86_64.whl (18 kB)\n",
      "Collecting preshed<3.1.0,>=3.0.2\n",
      "  Downloading preshed-3.0.8-cp38-cp38-macosx_10_9_x86_64.whl (107 kB)\n",
      "\u001b[K     |████████████████████████████████| 107 kB 30.8 MB/s eta 0:00:01\n",
      "\u001b[?25hRequirement already satisfied, skipping upgrade: setuptools in ./env/lib/python3.8/site-packages (from spacy) (49.2.1)\n",
      "Collecting typer<0.8.0,>=0.3.0\n",
      "  Downloading typer-0.7.0-py3-none-any.whl (38 kB)\n",
      "Collecting catalogue<2.1.0,>=2.0.6\n",
      "  Using cached catalogue-2.0.8-py3-none-any.whl (17 kB)\n",
      "Requirement already satisfied, skipping upgrade: packaging>=20.0 in ./env/lib/python3.8/site-packages (from spacy) (23.0)\n",
      "Collecting langcodes<4.0.0,>=3.2.0\n",
      "  Using cached langcodes-3.3.0-py3-none-any.whl (181 kB)\n",
      "Collecting urllib3<1.27,>=1.21.1\n",
      "  Downloading urllib3-1.26.15-py2.py3-none-any.whl (140 kB)\n",
      "\u001b[K     |████████████████████████████████| 140 kB 33.1 MB/s eta 0:00:01\n",
      "\u001b[?25hCollecting charset-normalizer<4,>=2\n",
      "  Downloading charset_normalizer-3.1.0-cp38-cp38-macosx_10_9_x86_64.whl (123 kB)\n",
      "\u001b[K     |████████████████████████████████| 123 kB 29.5 MB/s eta 0:00:01\n",
      "\u001b[?25hCollecting certifi>=2017.4.17\n",
      "  Downloading certifi-2022.12.7-py3-none-any.whl (155 kB)\n",
      "\u001b[K     |████████████████████████████████| 155 kB 24.1 MB/s eta 0:00:01\n",
      "\u001b[?25hRequirement already satisfied, skipping upgrade: idna<4,>=2.5 in ./env/lib/python3.8/site-packages (from requests<3.0.0,>=2.13.0->spacy) (3.4)\n",
      "Requirement already satisfied, skipping upgrade: MarkupSafe>=2.0 in ./env/lib/python3.8/site-packages (from jinja2->spacy) (2.1.2)\n",
      "Collecting typing-extensions>=4.2.0\n",
      "  Downloading typing_extensions-4.5.0-py3-none-any.whl (27 kB)\n",
      "Collecting confection<1.0.0,>=0.0.1\n",
      "  Downloading confection-0.0.4-py3-none-any.whl (32 kB)\n",
      "Collecting blis<0.8.0,>=0.7.8\n",
      "  Downloading blis-0.7.9-cp38-cp38-macosx_10_9_x86_64.whl (6.1 MB)\n",
      "\u001b[K     |████████████████████████████████| 6.1 MB 22.1 MB/s eta 0:00:01\n",
      "\u001b[?25hCollecting click<9.0.0,>=7.1.1\n",
      "  Using cached click-8.1.3-py3-none-any.whl (96 kB)\n",
      "Installing collected packages: pip, install, spacy-legacy, spacy-loggers, catalogue, srsly, urllib3, charset-normalizer, certifi, requests, smart-open, tqdm, cymem, numpy, click, typer, pathy, wasabi, typing-extensions, pydantic, murmurhash, confection, blis, preshed, thinc, langcodes, spacy\n",
      "  Attempting uninstall: pip\n",
      "    Found existing installation: pip 20.2.3\n",
      "    Uninstalling pip-20.2.3:\n",
      "      Successfully uninstalled pip-20.2.3\n",
      "Successfully installed blis-0.7.9 catalogue-2.0.8 certifi-2022.12.7 charset-normalizer-3.1.0 click-8.1.3 confection-0.0.4 cymem-2.0.7 install-1.3.5 langcodes-3.3.0 murmurhash-1.0.9 numpy-1.24.2 pathy-0.10.1 pip-23.0.1 preshed-3.0.8 pydantic-1.10.6 requests-2.28.2 smart-open-6.3.0 spacy-3.5.1 spacy-legacy-3.0.12 spacy-loggers-1.0.4 srsly-2.4.6 thinc-8.1.9 tqdm-4.65.0 typer-0.7.0 typing-extensions-4.5.0 urllib3-1.26.15 wasabi-1.1.1\n",
      "Collecting en-core-web-md==3.5.0\n",
      "  Downloading https://github.com/explosion/spacy-models/releases/download/en_core_web_md-3.5.0/en_core_web_md-3.5.0-py3-none-any.whl (42.8 MB)\n",
      "\u001b[2K     \u001b[38;2;114;156;31m━━━━━━━━━━━━━━━━━━━━━━━━━━━━━━━━━━━━━━━━\u001b[0m \u001b[32m42.8/42.8 MB\u001b[0m \u001b[31m19.5 MB/s\u001b[0m eta \u001b[36m0:00:00\u001b[0mm eta \u001b[36m0:00:01\u001b[0m[36m0:00:01\u001b[0m\n",
      "\u001b[?25hRequirement already satisfied: spacy<3.6.0,>=3.5.0 in ./env/lib/python3.8/site-packages (from en-core-web-md==3.5.0) (3.5.1)\n",
      "Requirement already satisfied: pathy>=0.10.0 in ./env/lib/python3.8/site-packages (from spacy<3.6.0,>=3.5.0->en-core-web-md==3.5.0) (0.10.1)\n",
      "Requirement already satisfied: wasabi<1.2.0,>=0.9.1 in ./env/lib/python3.8/site-packages (from spacy<3.6.0,>=3.5.0->en-core-web-md==3.5.0) (1.1.1)\n",
      "Requirement already satisfied: catalogue<2.1.0,>=2.0.6 in ./env/lib/python3.8/site-packages (from spacy<3.6.0,>=3.5.0->en-core-web-md==3.5.0) (2.0.8)\n",
      "Requirement already satisfied: murmurhash<1.1.0,>=0.28.0 in ./env/lib/python3.8/site-packages (from spacy<3.6.0,>=3.5.0->en-core-web-md==3.5.0) (1.0.9)\n",
      "Requirement already satisfied: spacy-loggers<2.0.0,>=1.0.0 in ./env/lib/python3.8/site-packages (from spacy<3.6.0,>=3.5.0->en-core-web-md==3.5.0) (1.0.4)\n",
      "Requirement already satisfied: packaging>=20.0 in ./env/lib/python3.8/site-packages (from spacy<3.6.0,>=3.5.0->en-core-web-md==3.5.0) (23.0)\n",
      "Requirement already satisfied: jinja2 in ./env/lib/python3.8/site-packages (from spacy<3.6.0,>=3.5.0->en-core-web-md==3.5.0) (3.1.2)\n",
      "Requirement already satisfied: tqdm<5.0.0,>=4.38.0 in ./env/lib/python3.8/site-packages (from spacy<3.6.0,>=3.5.0->en-core-web-md==3.5.0) (4.65.0)\n",
      "Requirement already satisfied: spacy-legacy<3.1.0,>=3.0.11 in ./env/lib/python3.8/site-packages (from spacy<3.6.0,>=3.5.0->en-core-web-md==3.5.0) (3.0.12)\n",
      "Requirement already satisfied: cymem<2.1.0,>=2.0.2 in ./env/lib/python3.8/site-packages (from spacy<3.6.0,>=3.5.0->en-core-web-md==3.5.0) (2.0.7)\n",
      "Requirement already satisfied: numpy>=1.15.0 in ./env/lib/python3.8/site-packages (from spacy<3.6.0,>=3.5.0->en-core-web-md==3.5.0) (1.24.2)\n",
      "Requirement already satisfied: smart-open<7.0.0,>=5.2.1 in ./env/lib/python3.8/site-packages (from spacy<3.6.0,>=3.5.0->en-core-web-md==3.5.0) (6.3.0)\n",
      "Requirement already satisfied: pydantic!=1.8,!=1.8.1,<1.11.0,>=1.7.4 in ./env/lib/python3.8/site-packages (from spacy<3.6.0,>=3.5.0->en-core-web-md==3.5.0) (1.10.6)\n",
      "Requirement already satisfied: srsly<3.0.0,>=2.4.3 in ./env/lib/python3.8/site-packages (from spacy<3.6.0,>=3.5.0->en-core-web-md==3.5.0) (2.4.6)\n",
      "Requirement already satisfied: thinc<8.2.0,>=8.1.8 in ./env/lib/python3.8/site-packages (from spacy<3.6.0,>=3.5.0->en-core-web-md==3.5.0) (8.1.9)\n",
      "Requirement already satisfied: setuptools in ./env/lib/python3.8/site-packages (from spacy<3.6.0,>=3.5.0->en-core-web-md==3.5.0) (49.2.1)\n",
      "Requirement already satisfied: requests<3.0.0,>=2.13.0 in ./env/lib/python3.8/site-packages (from spacy<3.6.0,>=3.5.0->en-core-web-md==3.5.0) (2.28.2)\n",
      "Requirement already satisfied: langcodes<4.0.0,>=3.2.0 in ./env/lib/python3.8/site-packages (from spacy<3.6.0,>=3.5.0->en-core-web-md==3.5.0) (3.3.0)\n",
      "Requirement already satisfied: typer<0.8.0,>=0.3.0 in ./env/lib/python3.8/site-packages (from spacy<3.6.0,>=3.5.0->en-core-web-md==3.5.0) (0.7.0)\n",
      "Requirement already satisfied: preshed<3.1.0,>=3.0.2 in ./env/lib/python3.8/site-packages (from spacy<3.6.0,>=3.5.0->en-core-web-md==3.5.0) (3.0.8)\n",
      "Requirement already satisfied: typing-extensions>=4.2.0 in ./env/lib/python3.8/site-packages (from pydantic!=1.8,!=1.8.1,<1.11.0,>=1.7.4->spacy<3.6.0,>=3.5.0->en-core-web-md==3.5.0) (4.5.0)\n"
     ]
    },
    {
     "name": "stdout",
     "output_type": "stream",
     "text": [
      "Requirement already satisfied: certifi>=2017.4.17 in ./env/lib/python3.8/site-packages (from requests<3.0.0,>=2.13.0->spacy<3.6.0,>=3.5.0->en-core-web-md==3.5.0) (2022.12.7)\n",
      "Requirement already satisfied: charset-normalizer<4,>=2 in ./env/lib/python3.8/site-packages (from requests<3.0.0,>=2.13.0->spacy<3.6.0,>=3.5.0->en-core-web-md==3.5.0) (3.1.0)\n",
      "Requirement already satisfied: idna<4,>=2.5 in ./env/lib/python3.8/site-packages (from requests<3.0.0,>=2.13.0->spacy<3.6.0,>=3.5.0->en-core-web-md==3.5.0) (3.4)\n",
      "Requirement already satisfied: urllib3<1.27,>=1.21.1 in ./env/lib/python3.8/site-packages (from requests<3.0.0,>=2.13.0->spacy<3.6.0,>=3.5.0->en-core-web-md==3.5.0) (1.26.15)\n",
      "Requirement already satisfied: confection<1.0.0,>=0.0.1 in ./env/lib/python3.8/site-packages (from thinc<8.2.0,>=8.1.8->spacy<3.6.0,>=3.5.0->en-core-web-md==3.5.0) (0.0.4)\n",
      "Requirement already satisfied: blis<0.8.0,>=0.7.8 in ./env/lib/python3.8/site-packages (from thinc<8.2.0,>=8.1.8->spacy<3.6.0,>=3.5.0->en-core-web-md==3.5.0) (0.7.9)\n",
      "Requirement already satisfied: click<9.0.0,>=7.1.1 in ./env/lib/python3.8/site-packages (from typer<0.8.0,>=0.3.0->spacy<3.6.0,>=3.5.0->en-core-web-md==3.5.0) (8.1.3)\n",
      "Requirement already satisfied: MarkupSafe>=2.0 in ./env/lib/python3.8/site-packages (from jinja2->spacy<3.6.0,>=3.5.0->en-core-web-md==3.5.0) (2.1.2)\n",
      "Installing collected packages: en-core-web-md\n",
      "Successfully installed en-core-web-md-3.5.0\n",
      "\u001b[38;5;2m✔ Download and installation successful\u001b[0m\n",
      "You can now load the package via spacy.load('en_core_web_md')\n"
     ]
    }
   ],
   "source": [
    "import sys\n",
    "!{sys.executable} -m pip install simpleneighbors\n",
    "!{sys.executable} -m pip install pip install -U spacy\n",
    "!{sys.executable} -m spacy download en_core_web_md"
   ]
  },
  {
   "cell_type": "code",
   "execution_count": 5,
   "id": "a9907acf",
   "metadata": {},
   "outputs": [
    {
     "name": "stdout",
     "output_type": "stream",
     "text": [
      "Collecting annoy==1.16.3\n",
      "  Using cached annoy-1.16.3-cp38-cp38-macosx_10_9_x86_64.whl\n",
      "Installing collected packages: annoy\n",
      "Successfully installed annoy-1.16.3\n"
     ]
    }
   ],
   "source": [
    "!{sys.executable} -m pip install annoy==1.16.3"
   ]
  },
  {
   "cell_type": "code",
   "execution_count": 3,
   "id": "78866488",
   "metadata": {},
   "outputs": [],
   "source": [
    "import spacy\n",
    "\n",
    "nlp = spacy.load('en_core_web_md')\n",
    "\n",
    "doc = nlp(open(\"2try.txt\").read())"
   ]
  },
  {
   "cell_type": "code",
   "execution_count": 7,
   "id": "4bf33457",
   "metadata": {},
   "outputs": [
    {
     "data": {
      "text/plain": [
       "[\"The lover's discourse is usually a smooth envelope which encases the Image, a very gentle glove around the loved being.\",\n",
       " 'This notion is a ruse, because it takes up a position within the very heart of passion, whose obsessions and anxieties it leaves intact.  ',\n",
       " 'No doubt I try to deny separation by the telephone-as the child fearing to lose its mother keeps pulling on a string; but the telephone wire is not a good transitional object, it is not an inert string; it is charged with a meaning, which is not that of junction but that of distance: the loved, exhausted voice heard over the telephone is the fade-out in all its anxiety.',\n",
       " 'Here is a gesture by which is revealed a being of another race.',\n",
       " 'The way a nail is cut, a tooth broken slightly aslant, a lock of hair, a way of spreading the fingers while talking, while smoking?',\n",
       " 'For the bad Image is not a wicked image; it is a paltry image: it shows me the other caught up in the platitude of the social world-common\\xad place.',\n",
       " '3.  Amorous errantry has its comical side: it re\\xad sembles a ballet, more or less nimble according to the velocity of the fickle subject; but it is also a grand opera.',\n",
       " 'This speck is a tiny one: a gesture, a word, an object, a garment, something unex\\xad pected which appears (which dawns) from a region I had never even suspected, and suddenly attaches the loved ob\\xad ject to a commonplace world.',\n",
       " 'The space of reverberation is the body-that imaginary body, so \"coherent\" (coalescent) that I can experience it only in the form of a generalized pang.',\n",
       " \"''Lookin9 embarrassed'' gene I embarrassment A group scene in which the implicit nature of the amorous relation functions as a constraint and provokes a collective embarrassment which is not spoken.         \",\n",
       " \"Of the external world, the only thing I can associ\\xad ate with my condition is the quality of the weather, as if the day's character were a dimension of the Image\\xad repertoire ( the Image is neither profound nor colored, but it is charged with all the nuances of light and warmth, communicating with the amorous body, which thus feels itself to be well or ill as a whole, as a communion).\",\n",
       " 'In the animal world, the release switch of the sex\\xad ual mechanism is not a specific individual but only a form,                          Flaubert          etymology  a bright-colored fetish ( which is how the Image-repertoire starts up).']"
      ]
     },
     "execution_count": 7,
     "metadata": {},
     "output_type": "execute_result"
    }
   ],
   "source": [
    "from simpleneighbors import SimpleNeighbors\n",
    "\n",
    "sentence_lookup = SimpleNeighbors(300)\n",
    "for sent in doc.sents:\n",
    "    # replace linebreaks to make the output a bit more neat\n",
    "    sentence_lookup.add_one(sent.text.replace(\"\\n\", \" \"), sent.vector)\n",
    "sentence_lookup.build()\n",
    "\n",
    "sentence_lookup.nearest(nlp(\"The distance between two bodies is itself a body too\").vector)"
   ]
  },
  {
   "cell_type": "code",
   "execution_count": 8,
   "id": "c7bb3f81",
   "metadata": {},
   "outputs": [
    {
     "data": {
      "text/plain": [
       "[\"''I have an Other-ache'' compassion I compassion Thesubject experiences a sentiment of violent compassion with regard to the loved object each time he sees, feels, or knows the loved object is unhappy or in danger, for whatever reason external to the amorous relation itself.      \",\n",
       " 'To Be Ascetic askesis Whether he feels guilty with regard to the loved being, or whether he seeks to impress that beiag by representing his unhappiness, the amorous subject outlines an ascetic behavior of self-punishment (in life style, dress, etc.).    ',\n",
       " 'What wounds me are the forms of the relation, its images; or rather, what others call form I experience as force.',\n",
       " 'When knowledge, when science speaks, I sometimes come to the point of hearing its discourse as the sound of a gossip which describes and disparages lightly, coldly, and objectively what I love: which speaks of what I love according to truth.  ',\n",
       " \"Let us imagine that the science of our lapsi were to discover, one day, its own lapsus, and that this !apsus should turn out to be: a new, unheard-of form of consciousness?)  ''\",\n",
       " 'The loved being, if only unconsciously and for motives which may proceed from his own neurotic advantage, then seems to be determined to lodge me even deeper in my delirium, to sustain and to aggravate the amorous wound: like those FRl;:UD: ··we must not underestimate the curative power of love in delirium\\'\\' (Delirium and Dream i11 Jensen\\'s \"Gradiva\").  ',\n",
       " 'Symposi11111         Werther  I.  Two powerful myths have persuaded us that love could, should be sublimated in aesthetic creation: the Socratic myth (loving serves to \"engender a host of beau\\xad tiful discourses\") and the romantic myth (I shall produce an immortal work by writing my passion). ',\n",
       " 'The second series would say that to speak is always to say something about someone; in speaking about the banquet, about Love, it is about Socrates, about Alcibiades, and about their friends that Glaucon and Apollodorus are talking: the \"subject\" comes to light by gossip.',\n",
       " \"Talking declaration /  declaration The amorous subject's propensity to talk copiously, with repressed feeling, to the loved being, about his love for that being, for himself, for them: the declaration does not bear upon the avowal of love, but upon the endlessly glossed form of the amorous relation.    \",\n",
       " 'A moment of affirmation; for a certain time, though a finite one, a deranged interval, something has been successful: I have been fulfilled (all my desires abolished by the plenitude of their satisfaction): fulfill\\xad ment does exist, and I shall keep on making it return: through all the meanderings of my amorous history, I shall persist in wanting to rediscover, to renew the contradic\\xad tion-the contraction-of thetwo embraces.  ',\n",
       " 'For instance: the other sets about making me contradict my\\xad self (which has the effect of paralyzing any language in me); or again, the other alternates actions of seduction with actions of frustration ( this is a commonplace of the amorous relation); the other shifts without warning from one regime to another, from intimate tenderness and com\\xad plicity to coldness, to silence, to dismissiveness; or finally, in an even more tenuous fashion, though no less wound\\xad ing, the other sets about \"breaking\" the conversation, either by forcing it to shift suddenly from a serious subject ( which matters to me) to a trivial one, or by being obviously interested, while I am speaking, in something else than what I am saying.',\n",
       " 'The Dedication dedicace I dedication An episode of language which accompanies any amorous gift, whether real or projected; and, more generally, every gesture, whether actual or interior, by which the subject dedicates something to the loved being.   ']"
      ]
     },
     "execution_count": 8,
     "metadata": {},
     "output_type": "execute_result"
    }
   ],
   "source": [
    "sentence_lookup.nearest(nlp(\"yearning\").vector)"
   ]
  },
  {
   "cell_type": "code",
   "execution_count": 9,
   "id": "bda3769e",
   "metadata": {},
   "outputs": [
    {
     "data": {
      "text/plain": [
       "['Once a discourse is thus driven by its own momentum into the backwater of the \"unreal,\" exiled from all gregarity, it has no recourse but to become the site, however exiguous, of an affirmation.',\n",
       " 'These fragments of discourse can be called figures.',\n",
       " 'The word is to be understood, not in its rhetorical sense, but rather in its gymnastic or choreographic acceptation; in   short, in the Greek meaning: ux,jp.a is not the \"schema,\" but, in a much livelier way, the body\\'s gesture caught in action and not contemplated in repose: the body of athletes, orators, statues: what in the straining body can be immobilized.',\n",
       " 'It is said that words alone have specific uses, not sen\\xad tences; but underneath each figure lies a sentence, fre\\xad quently an unknown (unconscious?) one, which has its  use in the signifying economy of the amorous subject.',\n",
       " 'Such sentences are matrices of figures precisely because they remain suspended: they utter the affect, then break off, their role is filled.',\n",
       " 'Whence the emotion of every figure: even the mildest bears within it the terror of a suspense: in it, I hear the tempestuous, Neptunian quos ego  2 Order   Throughout any love life, figures occur to the lover without any order, for on each occasion they depend on an ( internal or external) accident.',\n",
       " 'Each figure explodes, vibrates in and of itself like a sound severed from any tune-or is repeated to satiety, like the motif of a hovering music.',\n",
       " 'In linguistic terms, one might say that the figures are distributional but not integrative; they always remain on the same level: the lover speaks in bundles of sentences but does not integrate these sentences on a higher level, into a work; his is a horizontal discourse: no transcen\\xad dence, no deliverance, no novel ( though a great deal of the fictive).',\n",
       " 'Hence we have avoided the wiles of pure chance, which might indeed have produced logical sequences; for we must not, one mathematician tells us, \"underestimate the power of chance to engender mon\\xad sters\"; the monster, in this case, would have been, emerg\\xad ing from a certain order of the figures, a \"philosophy of love\" where we must look for no more than its affirma\\xad tion.  ',\n",
       " \"Some come from an ordinary reading, that of Goethe's Werther.\",\n",
       " 'Therefore, these reminders of reading, of listening, have been left in the frequently uncertain, incompleted state suitable to a dis\\xad course whose occasion is indeed the memory of the sites (books, encounters) where such and such a thing has been read, spoken, heard.',\n",
       " \"The crisis of engulfment can come from a wound,  WERTHER: ''In such thoughts I am engulfed, I succumb, under the power of these magnificent visions ... Ishall sec her ...\"]"
      ]
     },
     "execution_count": 9,
     "metadata": {},
     "output_type": "execute_result"
    }
   ],
   "source": [
    "sentence_lookup.nearest(nlp(\"limerance\").vector)"
   ]
  }
 ],
 "metadata": {
  "kernelspec": {
   "display_name": "Python 3 (ipykernel)",
   "language": "python",
   "name": "python3"
  },
  "language_info": {
   "codemirror_mode": {
    "name": "ipython",
    "version": 3
   },
   "file_extension": ".py",
   "mimetype": "text/x-python",
   "name": "python",
   "nbconvert_exporter": "python",
   "pygments_lexer": "ipython3",
   "version": "3.8.7"
  }
 },
 "nbformat": 4,
 "nbformat_minor": 5
}
